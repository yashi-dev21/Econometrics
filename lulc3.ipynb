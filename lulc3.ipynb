{
 "cells": [
  {
   "cell_type": "code",
   "execution_count": 1,
   "metadata": {},
   "outputs": [],
   "source": [
    "import pandas as pd\n",
    "import matplotlib.pyplot as plt\n",
    "import seaborn as sns\n",
    "import numpy as np"
   ]
  },
  {
   "cell_type": "code",
   "execution_count": 2,
   "metadata": {},
   "outputs": [],
   "source": [
    "# Load the dataset\n",
    "df = pd.read_excel(\"C:\\\\Users\\\\kumar\\\\Downloads\\\\Data2.xlsx\")"
   ]
  },
  {
   "cell_type": "code",
   "execution_count": 3,
   "metadata": {},
   "outputs": [
    {
     "data": {
      "text/html": [
       "<div>\n",
       "<style scoped>\n",
       "    .dataframe tbody tr th:only-of-type {\n",
       "        vertical-align: middle;\n",
       "    }\n",
       "\n",
       "    .dataframe tbody tr th {\n",
       "        vertical-align: top;\n",
       "    }\n",
       "\n",
       "    .dataframe thead th {\n",
       "        text-align: right;\n",
       "    }\n",
       "</style>\n",
       "<table border=\"1\" class=\"dataframe\">\n",
       "  <thead>\n",
       "    <tr style=\"text-align: right;\">\n",
       "      <th></th>\n",
       "      <th>State Identifer</th>\n",
       "      <th>FY</th>\n",
       "      <th>Agriculture</th>\n",
       "      <th>Barren land</th>\n",
       "      <th>Buildup(Mining)</th>\n",
       "      <th>Buildup(Rural)</th>\n",
       "      <th>Buildup(Urban)</th>\n",
       "      <th>Forest</th>\n",
       "      <th>Wet lands</th>\n",
       "      <th>GDP_Agric</th>\n",
       "      <th>GDP_Industry</th>\n",
       "      <th>GDP_Service</th>\n",
       "      <th>TotalGDP</th>\n",
       "    </tr>\n",
       "  </thead>\n",
       "  <tbody>\n",
       "    <tr>\n",
       "      <th>0</th>\n",
       "      <td>UP</td>\n",
       "      <td>2005-06</td>\n",
       "      <td>187013.85</td>\n",
       "      <td>687.72</td>\n",
       "      <td>98.53</td>\n",
       "      <td>7001.23</td>\n",
       "      <td>4141.60</td>\n",
       "      <td>12618.51</td>\n",
       "      <td>11362.04</td>\n",
       "      <td>2973694</td>\n",
       "      <td>5460143</td>\n",
       "      <td>13135777</td>\n",
       "      <td>27781788</td>\n",
       "    </tr>\n",
       "    <tr>\n",
       "      <th>1</th>\n",
       "      <td>UP</td>\n",
       "      <td>2011-12</td>\n",
       "      <td>194583.39</td>\n",
       "      <td>7587.55</td>\n",
       "      <td>367.92</td>\n",
       "      <td>8258.82</td>\n",
       "      <td>3921.13</td>\n",
       "      <td>15485.14</td>\n",
       "      <td>10567.19</td>\n",
       "      <td>8726191</td>\n",
       "      <td>9640976</td>\n",
       "      <td>22578126</td>\n",
       "      <td>41840413</td>\n",
       "    </tr>\n",
       "    <tr>\n",
       "      <th>2</th>\n",
       "      <td>UP</td>\n",
       "      <td>2015-16</td>\n",
       "      <td>194498.37</td>\n",
       "      <td>219.60</td>\n",
       "      <td>407.55</td>\n",
       "      <td>8289.32</td>\n",
       "      <td>4101.90</td>\n",
       "      <td>15469.85</td>\n",
       "      <td>10569.58</td>\n",
       "      <td>12645300</td>\n",
       "      <td>9716501</td>\n",
       "      <td>41693882</td>\n",
       "      <td>113780794</td>\n",
       "    </tr>\n",
       "    <tr>\n",
       "      <th>3</th>\n",
       "      <td>AP</td>\n",
       "      <td>2005-06</td>\n",
       "      <td>166112.16</td>\n",
       "      <td>3297.70</td>\n",
       "      <td>740.19</td>\n",
       "      <td>4922.85</td>\n",
       "      <td>2596.83</td>\n",
       "      <td>59550.71</td>\n",
       "      <td>18582.09</td>\n",
       "      <td>3128389</td>\n",
       "      <td>2489325</td>\n",
       "      <td>7126015</td>\n",
       "      <td>14197662</td>\n",
       "    </tr>\n",
       "    <tr>\n",
       "      <th>4</th>\n",
       "      <td>AP</td>\n",
       "      <td>2011-12</td>\n",
       "      <td>95892.25</td>\n",
       "      <td>15585.19</td>\n",
       "      <td>446.52</td>\n",
       "      <td>2926.42</td>\n",
       "      <td>1503.12</td>\n",
       "      <td>34572.64</td>\n",
       "      <td>11965.12</td>\n",
       "      <td>3904992</td>\n",
       "      <td>5091104</td>\n",
       "      <td>11875005</td>\n",
       "      <td>22128548</td>\n",
       "    </tr>\n",
       "  </tbody>\n",
       "</table>\n",
       "</div>"
      ],
      "text/plain": [
       "  State Identifer       FY  Agriculture  Barren land  Buildup(Mining)  \\\n",
       "0              UP  2005-06    187013.85       687.72            98.53   \n",
       "1              UP  2011-12    194583.39      7587.55           367.92   \n",
       "2              UP  2015-16    194498.37       219.60           407.55   \n",
       "3              AP  2005-06    166112.16      3297.70           740.19   \n",
       "4              AP  2011-12     95892.25     15585.19           446.52   \n",
       "\n",
       "   Buildup(Rural)  Buildup(Urban)    Forest  Wet lands  GDP_Agric  \\\n",
       "0         7001.23         4141.60  12618.51   11362.04    2973694   \n",
       "1         8258.82         3921.13  15485.14   10567.19    8726191   \n",
       "2         8289.32         4101.90  15469.85   10569.58   12645300   \n",
       "3         4922.85         2596.83  59550.71   18582.09    3128389   \n",
       "4         2926.42         1503.12  34572.64   11965.12    3904992   \n",
       "\n",
       "   GDP_Industry  GDP_Service   TotalGDP  \n",
       "0       5460143     13135777   27781788  \n",
       "1       9640976     22578126   41840413  \n",
       "2       9716501     41693882  113780794  \n",
       "3       2489325      7126015   14197662  \n",
       "4       5091104     11875005   22128548  "
      ]
     },
     "execution_count": 3,
     "metadata": {},
     "output_type": "execute_result"
    }
   ],
   "source": [
    "df.head()"
   ]
  },
  {
   "cell_type": "code",
   "execution_count": 53,
   "metadata": {},
   "outputs": [
    {
     "data": {
      "text/plain": [
       "(48, 13)"
      ]
     },
     "execution_count": 53,
     "metadata": {},
     "output_type": "execute_result"
    }
   ],
   "source": [
    "df.shape"
   ]
  },
  {
   "cell_type": "code",
   "execution_count": 4,
   "metadata": {},
   "outputs": [
    {
     "data": {
      "text/html": [
       "<div>\n",
       "<style scoped>\n",
       "    .dataframe tbody tr th:only-of-type {\n",
       "        vertical-align: middle;\n",
       "    }\n",
       "\n",
       "    .dataframe tbody tr th {\n",
       "        vertical-align: top;\n",
       "    }\n",
       "\n",
       "    .dataframe thead th {\n",
       "        text-align: right;\n",
       "    }\n",
       "</style>\n",
       "<table border=\"1\" class=\"dataframe\">\n",
       "  <thead>\n",
       "    <tr style=\"text-align: right;\">\n",
       "      <th></th>\n",
       "      <th>Agriculture</th>\n",
       "      <th>Barren land</th>\n",
       "      <th>Buildup(Mining)</th>\n",
       "      <th>Buildup(Rural)</th>\n",
       "      <th>Buildup(Urban)</th>\n",
       "      <th>Forest</th>\n",
       "      <th>Wet lands</th>\n",
       "      <th>GDP_Agric</th>\n",
       "      <th>GDP_Industry</th>\n",
       "      <th>GDP_Service</th>\n",
       "      <th>TotalGDP</th>\n",
       "    </tr>\n",
       "  </thead>\n",
       "  <tbody>\n",
       "    <tr>\n",
       "      <th>count</th>\n",
       "      <td>48.000000</td>\n",
       "      <td>48.000000</td>\n",
       "      <td>48.000000</td>\n",
       "      <td>48.000000</td>\n",
       "      <td>48.000000</td>\n",
       "      <td>48.000000</td>\n",
       "      <td>48.000000</td>\n",
       "      <td>4.800000e+01</td>\n",
       "      <td>4.800000e+01</td>\n",
       "      <td>4.800000e+01</td>\n",
       "      <td>4.800000e+01</td>\n",
       "    </tr>\n",
       "    <tr>\n",
       "      <th>mean</th>\n",
       "      <td>97846.599167</td>\n",
       "      <td>16217.411458</td>\n",
       "      <td>286.278333</td>\n",
       "      <td>2906.143542</td>\n",
       "      <td>1792.148958</td>\n",
       "      <td>32556.915417</td>\n",
       "      <td>14531.845417</td>\n",
       "      <td>3.424211e+06</td>\n",
       "      <td>6.354225e+06</td>\n",
       "      <td>1.431047e+07</td>\n",
       "      <td>3.053765e+07</td>\n",
       "    </tr>\n",
       "    <tr>\n",
       "      <th>std</th>\n",
       "      <td>71399.440323</td>\n",
       "      <td>30463.918764</td>\n",
       "      <td>243.603779</td>\n",
       "      <td>2104.190163</td>\n",
       "      <td>1234.957872</td>\n",
       "      <td>32372.367580</td>\n",
       "      <td>53311.716185</td>\n",
       "      <td>2.598561e+06</td>\n",
       "      <td>4.740311e+06</td>\n",
       "      <td>1.485411e+07</td>\n",
       "      <td>3.177992e+07</td>\n",
       "    </tr>\n",
       "    <tr>\n",
       "      <th>min</th>\n",
       "      <td>2964.490000</td>\n",
       "      <td>204.360000</td>\n",
       "      <td>0.630000</td>\n",
       "      <td>111.310000</td>\n",
       "      <td>125.910000</td>\n",
       "      <td>767.270000</td>\n",
       "      <td>316.910000</td>\n",
       "      <td>5.377600e+04</td>\n",
       "      <td>8.065160e+05</td>\n",
       "      <td>1.227120e+05</td>\n",
       "      <td>2.888283e+06</td>\n",
       "    </tr>\n",
       "    <tr>\n",
       "      <th>25%</th>\n",
       "      <td>39467.700000</td>\n",
       "      <td>829.785000</td>\n",
       "      <td>111.112500</td>\n",
       "      <td>1129.157500</td>\n",
       "      <td>832.347500</td>\n",
       "      <td>10666.707500</td>\n",
       "      <td>2913.800000</td>\n",
       "      <td>1.733117e+06</td>\n",
       "      <td>2.821849e+06</td>\n",
       "      <td>5.049362e+06</td>\n",
       "      <td>1.040949e+07</td>\n",
       "    </tr>\n",
       "    <tr>\n",
       "      <th>50%</th>\n",
       "      <td>79310.925000</td>\n",
       "      <td>3346.190000</td>\n",
       "      <td>233.115000</td>\n",
       "      <td>2925.150000</td>\n",
       "      <td>1584.630000</td>\n",
       "      <td>28297.440000</td>\n",
       "      <td>7186.860000</td>\n",
       "      <td>2.973694e+06</td>\n",
       "      <td>5.087713e+06</td>\n",
       "      <td>9.375802e+06</td>\n",
       "      <td>1.922297e+07</td>\n",
       "    </tr>\n",
       "    <tr>\n",
       "      <th>75%</th>\n",
       "      <td>171337.582500</td>\n",
       "      <td>17123.560000</td>\n",
       "      <td>396.910000</td>\n",
       "      <td>3486.187500</td>\n",
       "      <td>2609.640000</td>\n",
       "      <td>50424.035000</td>\n",
       "      <td>9760.382500</td>\n",
       "      <td>4.194561e+06</td>\n",
       "      <td>9.045733e+06</td>\n",
       "      <td>1.832142e+07</td>\n",
       "      <td>4.146546e+07</td>\n",
       "    </tr>\n",
       "    <tr>\n",
       "      <th>max</th>\n",
       "      <td>232601.560000</td>\n",
       "      <td>150539.220000</td>\n",
       "      <td>1139.960000</td>\n",
       "      <td>8289.320000</td>\n",
       "      <td>5079.980000</td>\n",
       "      <td>187474.780000</td>\n",
       "      <td>374949.560000</td>\n",
       "      <td>1.264530e+07</td>\n",
       "      <td>2.280025e+07</td>\n",
       "      <td>8.022079e+07</td>\n",
       "      <td>1.654284e+08</td>\n",
       "    </tr>\n",
       "  </tbody>\n",
       "</table>\n",
       "</div>"
      ],
      "text/plain": [
       "         Agriculture    Barren land  Buildup(Mining)  Buildup(Rural)  \\\n",
       "count      48.000000      48.000000        48.000000       48.000000   \n",
       "mean    97846.599167   16217.411458       286.278333     2906.143542   \n",
       "std     71399.440323   30463.918764       243.603779     2104.190163   \n",
       "min      2964.490000     204.360000         0.630000      111.310000   \n",
       "25%     39467.700000     829.785000       111.112500     1129.157500   \n",
       "50%     79310.925000    3346.190000       233.115000     2925.150000   \n",
       "75%    171337.582500   17123.560000       396.910000     3486.187500   \n",
       "max    232601.560000  150539.220000      1139.960000     8289.320000   \n",
       "\n",
       "       Buildup(Urban)         Forest      Wet lands     GDP_Agric  \\\n",
       "count       48.000000      48.000000      48.000000  4.800000e+01   \n",
       "mean      1792.148958   32556.915417   14531.845417  3.424211e+06   \n",
       "std       1234.957872   32372.367580   53311.716185  2.598561e+06   \n",
       "min        125.910000     767.270000     316.910000  5.377600e+04   \n",
       "25%        832.347500   10666.707500    2913.800000  1.733117e+06   \n",
       "50%       1584.630000   28297.440000    7186.860000  2.973694e+06   \n",
       "75%       2609.640000   50424.035000    9760.382500  4.194561e+06   \n",
       "max       5079.980000  187474.780000  374949.560000  1.264530e+07   \n",
       "\n",
       "       GDP_Industry   GDP_Service      TotalGDP  \n",
       "count  4.800000e+01  4.800000e+01  4.800000e+01  \n",
       "mean   6.354225e+06  1.431047e+07  3.053765e+07  \n",
       "std    4.740311e+06  1.485411e+07  3.177992e+07  \n",
       "min    8.065160e+05  1.227120e+05  2.888283e+06  \n",
       "25%    2.821849e+06  5.049362e+06  1.040949e+07  \n",
       "50%    5.087713e+06  9.375802e+06  1.922297e+07  \n",
       "75%    9.045733e+06  1.832142e+07  4.146546e+07  \n",
       "max    2.280025e+07  8.022079e+07  1.654284e+08  "
      ]
     },
     "execution_count": 4,
     "metadata": {},
     "output_type": "execute_result"
    }
   ],
   "source": [
    "df.describe()"
   ]
  },
  {
   "cell_type": "code",
   "execution_count": 5,
   "metadata": {},
   "outputs": [
    {
     "data": {
      "text/plain": [
       "State Identifer    0\n",
       "FY                 0\n",
       "Agriculture        0\n",
       "Barren land        0\n",
       "Buildup(Mining)    0\n",
       "Buildup(Rural)     0\n",
       "Buildup(Urban)     0\n",
       "Forest             0\n",
       "Wet lands          0\n",
       "GDP_Agric          0\n",
       "GDP_Industry       0\n",
       "GDP_Service        0\n",
       "TotalGDP           0\n",
       "dtype: int64"
      ]
     },
     "execution_count": 5,
     "metadata": {},
     "output_type": "execute_result"
    }
   ],
   "source": [
    "df.isnull().sum()"
   ]
  },
  {
   "cell_type": "code",
   "execution_count": 6,
   "metadata": {},
   "outputs": [
    {
     "data": {
      "text/plain": [
       "State Identifer     object\n",
       "FY                  object\n",
       "Agriculture        float64\n",
       "Barren land        float64\n",
       "Buildup(Mining)    float64\n",
       "Buildup(Rural)     float64\n",
       "Buildup(Urban)     float64\n",
       "Forest             float64\n",
       "Wet lands          float64\n",
       "GDP_Agric            int64\n",
       "GDP_Industry         int64\n",
       "GDP_Service          int64\n",
       "TotalGDP             int64\n",
       "dtype: object"
      ]
     },
     "execution_count": 6,
     "metadata": {},
     "output_type": "execute_result"
    }
   ],
   "source": [
    "df.dtypes"
   ]
  },
  {
   "cell_type": "code",
   "execution_count": null,
   "metadata": {},
   "outputs": [],
   "source": []
  },
  {
   "cell_type": "code",
   "execution_count": 7,
   "metadata": {},
   "outputs": [],
   "source": [
    "corr_matrix = df.drop(['State Identifer', 'FY'], axis=1).corr()"
   ]
  },
  {
   "cell_type": "code",
   "execution_count": 8,
   "metadata": {},
   "outputs": [
    {
     "data": {
      "image/png": "[encoded data removed]",
      "text/plain": [
       "<Figure size 1200x800 with 2 Axes>"
      ]
     },
     "metadata": {},
     "output_type": "display_data"
    }
   ],
   "source": [
    "plt.figure(figsize=(12, 8))\n",
    "sns.heatmap(corr_matrix.corr(), annot=True, cmap='YlOrRd')\n",
    "plt.show()"
   ]
  },
  {
   "cell_type": "code",
   "execution_count": 9,
   "metadata": {},
   "outputs": [],
   "source": [
    "df_final = df[['Agriculture', 'Buildup(Urban)', 'GDP_Agric', 'GDP_Industry', 'GDP_Service', 'TotalGDP']]"
   ]
  },
  {
   "cell_type": "code",
   "execution_count": 10,
   "metadata": {},
   "outputs": [
    {
     "data": {
      "text/html": [
       "<div>\n",
       "<style scoped>\n",
       "    .dataframe tbody tr th:only-of-type {\n",
       "        vertical-align: middle;\n",
       "    }\n",
       "\n",
       "    .dataframe tbody tr th {\n",
       "        vertical-align: top;\n",
       "    }\n",
       "\n",
       "    .dataframe thead th {\n",
       "        text-align: right;\n",
       "    }\n",
       "</style>\n",
       "<table border=\"1\" class=\"dataframe\">\n",
       "  <thead>\n",
       "    <tr style=\"text-align: right;\">\n",
       "      <th></th>\n",
       "      <th>Agriculture</th>\n",
       "      <th>Buildup(Urban)</th>\n",
       "      <th>GDP_Agric</th>\n",
       "      <th>GDP_Industry</th>\n",
       "      <th>GDP_Service</th>\n",
       "      <th>TotalGDP</th>\n",
       "    </tr>\n",
       "  </thead>\n",
       "  <tbody>\n",
       "    <tr>\n",
       "      <th>0</th>\n",
       "      <td>187013.85</td>\n",
       "      <td>4141.60</td>\n",
       "      <td>2973694</td>\n",
       "      <td>5460143</td>\n",
       "      <td>13135777</td>\n",
       "      <td>27781788</td>\n",
       "    </tr>\n",
       "    <tr>\n",
       "      <th>1</th>\n",
       "      <td>194583.39</td>\n",
       "      <td>3921.13</td>\n",
       "      <td>8726191</td>\n",
       "      <td>9640976</td>\n",
       "      <td>22578126</td>\n",
       "      <td>41840413</td>\n",
       "    </tr>\n",
       "    <tr>\n",
       "      <th>2</th>\n",
       "      <td>194498.37</td>\n",
       "      <td>4101.90</td>\n",
       "      <td>12645300</td>\n",
       "      <td>9716501</td>\n",
       "      <td>41693882</td>\n",
       "      <td>113780794</td>\n",
       "    </tr>\n",
       "    <tr>\n",
       "      <th>3</th>\n",
       "      <td>166112.16</td>\n",
       "      <td>2596.83</td>\n",
       "      <td>3128389</td>\n",
       "      <td>2489325</td>\n",
       "      <td>7126015</td>\n",
       "      <td>14197662</td>\n",
       "    </tr>\n",
       "    <tr>\n",
       "      <th>4</th>\n",
       "      <td>95892.25</td>\n",
       "      <td>1503.12</td>\n",
       "      <td>3904992</td>\n",
       "      <td>5091104</td>\n",
       "      <td>11875005</td>\n",
       "      <td>22128548</td>\n",
       "    </tr>\n",
       "    <tr>\n",
       "      <th>5</th>\n",
       "      <td>96582.82</td>\n",
       "      <td>125.91</td>\n",
       "      <td>5845963</td>\n",
       "      <td>3994701</td>\n",
       "      <td>20507959</td>\n",
       "      <td>49860626</td>\n",
       "    </tr>\n",
       "    <tr>\n",
       "      <th>6</th>\n",
       "      <td>88082.68</td>\n",
       "      <td>2075.40</td>\n",
       "      <td>2973694</td>\n",
       "      <td>6372872</td>\n",
       "      <td>14290360</td>\n",
       "      <td>24956705</td>\n",
       "    </tr>\n",
       "    <tr>\n",
       "      <th>7</th>\n",
       "      <td>88417.12</td>\n",
       "      <td>2648.07</td>\n",
       "      <td>3197598</td>\n",
       "      <td>13244766</td>\n",
       "      <td>26411788</td>\n",
       "      <td>43323803</td>\n",
       "    </tr>\n",
       "    <tr>\n",
       "      <th>8</th>\n",
       "      <td>88222.88</td>\n",
       "      <td>2796.52</td>\n",
       "      <td>5004574</td>\n",
       "      <td>10666070</td>\n",
       "      <td>46001730</td>\n",
       "      <td>96756246</td>\n",
       "    </tr>\n",
       "    <tr>\n",
       "      <th>9</th>\n",
       "      <td>61135.84</td>\n",
       "      <td>708.95</td>\n",
       "      <td>832472</td>\n",
       "      <td>1527853</td>\n",
       "      <td>1753948</td>\n",
       "      <td>4940774</td>\n",
       "    </tr>\n",
       "    <tr>\n",
       "      <th>10</th>\n",
       "      <td>61871.20</td>\n",
       "      <td>845.75</td>\n",
       "      <td>1202919</td>\n",
       "      <td>3635221</td>\n",
       "      <td>3106638</td>\n",
       "      <td>8340937</td>\n",
       "    </tr>\n",
       "    <tr>\n",
       "      <th>11</th>\n",
       "      <td>64199.53</td>\n",
       "      <td>3253.68</td>\n",
       "      <td>1978955</td>\n",
       "      <td>1641223</td>\n",
       "      <td>6423198</td>\n",
       "      <td>19058377</td>\n",
       "    </tr>\n",
       "    <tr>\n",
       "      <th>12</th>\n",
       "      <td>210325.33</td>\n",
       "      <td>3024.36</td>\n",
       "      <td>2973694</td>\n",
       "      <td>12227434</td>\n",
       "      <td>27555905</td>\n",
       "      <td>47092933</td>\n",
       "    </tr>\n",
       "    <tr>\n",
       "      <th>13</th>\n",
       "      <td>208633.34</td>\n",
       "      <td>4272.82</td>\n",
       "      <td>5163326</td>\n",
       "      <td>22800246</td>\n",
       "      <td>48354198</td>\n",
       "      <td>77560965</td>\n",
       "    </tr>\n",
       "    <tr>\n",
       "      <th>14</th>\n",
       "      <td>207409.44</td>\n",
       "      <td>4162.99</td>\n",
       "      <td>9142618</td>\n",
       "      <td>8847319</td>\n",
       "      <td>80220792</td>\n",
       "      <td>165428361</td>\n",
       "    </tr>\n",
       "    <tr>\n",
       "      <th>15</th>\n",
       "      <td>124758.89</td>\n",
       "      <td>1700.47</td>\n",
       "      <td>3398200</td>\n",
       "      <td>6884200</td>\n",
       "      <td>10026300</td>\n",
       "      <td>23377600</td>\n",
       "    </tr>\n",
       "    <tr>\n",
       "      <th>16</th>\n",
       "      <td>121155.82</td>\n",
       "      <td>2655.02</td>\n",
       "      <td>4481060</td>\n",
       "      <td>15745767</td>\n",
       "      <td>18322143</td>\n",
       "      <td>39205778</td>\n",
       "    </tr>\n",
       "    <tr>\n",
       "      <th>17</th>\n",
       "      <td>121626.76</td>\n",
       "      <td>2751.91</td>\n",
       "      <td>7789790</td>\n",
       "      <td>5122121</td>\n",
       "      <td>28222253</td>\n",
       "      <td>89446534</td>\n",
       "    </tr>\n",
       "    <tr>\n",
       "      <th>18</th>\n",
       "      <td>73002.33</td>\n",
       "      <td>796.13</td>\n",
       "      <td>1787450</td>\n",
       "      <td>1173370</td>\n",
       "      <td>4300341</td>\n",
       "      <td>7646594</td>\n",
       "    </tr>\n",
       "    <tr>\n",
       "      <th>19</th>\n",
       "      <td>145321.70</td>\n",
       "      <td>844.42</td>\n",
       "      <td>2636490</td>\n",
       "      <td>2851557</td>\n",
       "      <td>8128974</td>\n",
       "      <td>14356008</td>\n",
       "    </tr>\n",
       "    <tr>\n",
       "      <th>20</th>\n",
       "      <td>72782.83</td>\n",
       "      <td>898.98</td>\n",
       "      <td>3532967</td>\n",
       "      <td>5811391</td>\n",
       "      <td>16724038</td>\n",
       "      <td>29648818</td>\n",
       "    </tr>\n",
       "    <tr>\n",
       "      <th>21</th>\n",
       "      <td>37647.49</td>\n",
       "      <td>963.71</td>\n",
       "      <td>702304</td>\n",
       "      <td>2732725</td>\n",
       "      <td>2127925</td>\n",
       "      <td>5784841</td>\n",
       "    </tr>\n",
       "    <tr>\n",
       "      <th>22</th>\n",
       "      <td>40146.16</td>\n",
       "      <td>1124.27</td>\n",
       "      <td>1282061</td>\n",
       "      <td>3736673</td>\n",
       "      <td>4030093</td>\n",
       "      <td>9350951</td>\n",
       "    </tr>\n",
       "    <tr>\n",
       "      <th>23</th>\n",
       "      <td>39858.06</td>\n",
       "      <td>1128.20</td>\n",
       "      <td>1133574</td>\n",
       "      <td>6516511</td>\n",
       "      <td>7085921</td>\n",
       "      <td>17488115</td>\n",
       "    </tr>\n",
       "    <tr>\n",
       "      <th>24</th>\n",
       "      <td>43764.58</td>\n",
       "      <td>1566.95</td>\n",
       "      <td>3037675</td>\n",
       "      <td>2665416</td>\n",
       "      <td>4398759</td>\n",
       "      <td>10255608</td>\n",
       "    </tr>\n",
       "    <tr>\n",
       "      <th>25</th>\n",
       "      <td>43691.42</td>\n",
       "      <td>1822.64</td>\n",
       "      <td>3402467</td>\n",
       "      <td>4653882</td>\n",
       "      <td>7487804</td>\n",
       "      <td>15730291</td>\n",
       "    </tr>\n",
       "    <tr>\n",
       "      <th>26</th>\n",
       "      <td>43641.72</td>\n",
       "      <td>2025.11</td>\n",
       "      <td>4794550</td>\n",
       "      <td>7696616</td>\n",
       "      <td>14847996</td>\n",
       "      <td>33005193</td>\n",
       "    </tr>\n",
       "    <tr>\n",
       "      <th>27</th>\n",
       "      <td>41120.01</td>\n",
       "      <td>635.17</td>\n",
       "      <td>2053262</td>\n",
       "      <td>3419462</td>\n",
       "      <td>4868773</td>\n",
       "      <td>10460779</td>\n",
       "    </tr>\n",
       "    <tr>\n",
       "      <th>28</th>\n",
       "      <td>38296.62</td>\n",
       "      <td>1602.31</td>\n",
       "      <td>2819950</td>\n",
       "      <td>5084322</td>\n",
       "      <td>9635355</td>\n",
       "      <td>17691697</td>\n",
       "    </tr>\n",
       "    <tr>\n",
       "      <th>29</th>\n",
       "      <td>37969.03</td>\n",
       "      <td>1758.89</td>\n",
       "      <td>3656573</td>\n",
       "      <td>11817401</td>\n",
       "      <td>18321178</td>\n",
       "      <td>41340479</td>\n",
       "    </tr>\n",
       "    <tr>\n",
       "      <th>30</th>\n",
       "      <td>216618.43</td>\n",
       "      <td>1696.94</td>\n",
       "      <td>2804372</td>\n",
       "      <td>4238250</td>\n",
       "      <td>6107203</td>\n",
       "      <td>13628496</td>\n",
       "    </tr>\n",
       "    <tr>\n",
       "      <th>31</th>\n",
       "      <td>232601.56</td>\n",
       "      <td>2147.98</td>\n",
       "      <td>4368803</td>\n",
       "      <td>7573878</td>\n",
       "      <td>10603192</td>\n",
       "      <td>23085925</td>\n",
       "    </tr>\n",
       "    <tr>\n",
       "      <th>32</th>\n",
       "      <td>232601.56</td>\n",
       "      <td>2147.98</td>\n",
       "      <td>7315288</td>\n",
       "      <td>17605337</td>\n",
       "      <td>21598501</td>\n",
       "      <td>56333953</td>\n",
       "    </tr>\n",
       "    <tr>\n",
       "      <th>33</th>\n",
       "      <td>189582.17</td>\n",
       "      <td>1427.56</td>\n",
       "      <td>2973694</td>\n",
       "      <td>3209886</td>\n",
       "      <td>5338183</td>\n",
       "      <td>11891946</td>\n",
       "    </tr>\n",
       "    <tr>\n",
       "      <th>34</th>\n",
       "      <td>188098.27</td>\n",
       "      <td>1791.85</td>\n",
       "      <td>4136480</td>\n",
       "      <td>5675748</td>\n",
       "      <td>9116250</td>\n",
       "      <td>19335031</td>\n",
       "    </tr>\n",
       "    <tr>\n",
       "      <th>35</th>\n",
       "      <td>188138.60</td>\n",
       "      <td>2057.36</td>\n",
       "      <td>8949745</td>\n",
       "      <td>11443201</td>\n",
       "      <td>15570721</td>\n",
       "      <td>41873574</td>\n",
       "    </tr>\n",
       "    <tr>\n",
       "      <th>36</th>\n",
       "      <td>27940.56</td>\n",
       "      <td>561.59</td>\n",
       "      <td>53776</td>\n",
       "      <td>1418571</td>\n",
       "      <td>122712</td>\n",
       "      <td>5521356</td>\n",
       "    </tr>\n",
       "    <tr>\n",
       "      <th>37</th>\n",
       "      <td>29013.27</td>\n",
       "      <td>721.80</td>\n",
       "      <td>1393846</td>\n",
       "      <td>1751500</td>\n",
       "      <td>4260340</td>\n",
       "      <td>7684368</td>\n",
       "    </tr>\n",
       "    <tr>\n",
       "      <th>38</th>\n",
       "      <td>28797.99</td>\n",
       "      <td>743.55</td>\n",
       "      <td>2559454</td>\n",
       "      <td>6815230</td>\n",
       "      <td>7818265</td>\n",
       "      <td>19110900</td>\n",
       "    </tr>\n",
       "    <tr>\n",
       "      <th>39</th>\n",
       "      <td>13036.80</td>\n",
       "      <td>371.22</td>\n",
       "      <td>613278</td>\n",
       "      <td>806516</td>\n",
       "      <td>1313812</td>\n",
       "      <td>2888283</td>\n",
       "    </tr>\n",
       "    <tr>\n",
       "      <th>40</th>\n",
       "      <td>13568.66</td>\n",
       "      <td>332.67</td>\n",
       "      <td>746567</td>\n",
       "      <td>995192</td>\n",
       "      <td>2230322</td>\n",
       "      <td>4120305</td>\n",
       "    </tr>\n",
       "    <tr>\n",
       "      <th>41</th>\n",
       "      <td>13456.08</td>\n",
       "      <td>378.09</td>\n",
       "      <td>805943</td>\n",
       "      <td>2574812</td>\n",
       "      <td>5109558</td>\n",
       "      <td>9700134</td>\n",
       "    </tr>\n",
       "    <tr>\n",
       "      <th>42</th>\n",
       "      <td>21785.33</td>\n",
       "      <td>538.40</td>\n",
       "      <td>1804197</td>\n",
       "      <td>3005799</td>\n",
       "      <td>7935378</td>\n",
       "      <td>13129393</td>\n",
       "    </tr>\n",
       "    <tr>\n",
       "      <th>43</th>\n",
       "      <td>21842.84</td>\n",
       "      <td>735.71</td>\n",
       "      <td>1570119</td>\n",
       "      <td>4441416</td>\n",
       "      <td>13657283</td>\n",
       "      <td>20095773</td>\n",
       "    </tr>\n",
       "    <tr>\n",
       "      <th>44</th>\n",
       "      <td>2964.49</td>\n",
       "      <td>903.01</td>\n",
       "      <td>2278769</td>\n",
       "      <td>11239427</td>\n",
       "      <td>25044795</td>\n",
       "      <td>45121002</td>\n",
       "    </tr>\n",
       "    <tr>\n",
       "      <th>45</th>\n",
       "      <td>80204.68</td>\n",
       "      <td>853.36</td>\n",
       "      <td>1510990</td>\n",
       "      <td>2722052</td>\n",
       "      <td>3605703</td>\n",
       "      <td>8214472</td>\n",
       "    </tr>\n",
       "    <tr>\n",
       "      <th>46</th>\n",
       "      <td>79445.24</td>\n",
       "      <td>1080.89</td>\n",
       "      <td>1819897</td>\n",
       "      <td>4451579</td>\n",
       "      <td>6321888</td>\n",
       "      <td>13011301</td>\n",
       "    </tr>\n",
       "    <tr>\n",
       "      <th>47</th>\n",
       "      <td>79176.61</td>\n",
       "      <td>5079.98</td>\n",
       "      <td>2454137</td>\n",
       "      <td>11767248</td>\n",
       "      <td>11585388</td>\n",
       "      <td>29222893</td>\n",
       "    </tr>\n",
       "  </tbody>\n",
       "</table>\n",
       "</div>"
      ],
      "text/plain": [
       "    Agriculture  Buildup(Urban)  GDP_Agric  GDP_Industry  GDP_Service  \\\n",
       "0     187013.85         4141.60    2973694       5460143     13135777   \n",
       "1     194583.39         3921.13    8726191       9640976     22578126   \n",
       "2     194498.37         4101.90   12645300       9716501     41693882   \n",
       "3     166112.16         2596.83    3128389       2489325      7126015   \n",
       "4      95892.25         1503.12    3904992       5091104     11875005   \n",
       "5      96582.82          125.91    5845963       3994701     20507959   \n",
       "6      88082.68         2075.40    2973694       6372872     14290360   \n",
       "7      88417.12         2648.07    3197598      13244766     26411788   \n",
       "8      88222.88         2796.52    5004574      10666070     46001730   \n",
       "9      61135.84          708.95     832472       1527853      1753948   \n",
       "10     61871.20          845.75    1202919       3635221      3106638   \n",
       "11     64199.53         3253.68    1978955       1641223      6423198   \n",
       "12    210325.33         3024.36    2973694      12227434     27555905   \n",
       "13    208633.34         4272.82    5163326      22800246     48354198   \n",
       "14    207409.44         4162.99    9142618       8847319     80220792   \n",
       "15    124758.89         1700.47    3398200       6884200     10026300   \n",
       "16    121155.82         2655.02    4481060      15745767     18322143   \n",
       "17    121626.76         2751.91    7789790       5122121     28222253   \n",
       "18     73002.33          796.13    1787450       1173370      4300341   \n",
       "19    145321.70          844.42    2636490       2851557      8128974   \n",
       "20     72782.83          898.98    3532967       5811391     16724038   \n",
       "21     37647.49          963.71     702304       2732725      2127925   \n",
       "22     40146.16         1124.27    1282061       3736673      4030093   \n",
       "23     39858.06         1128.20    1133574       6516511      7085921   \n",
       "24     43764.58         1566.95    3037675       2665416      4398759   \n",
       "25     43691.42         1822.64    3402467       4653882      7487804   \n",
       "26     43641.72         2025.11    4794550       7696616     14847996   \n",
       "27     41120.01          635.17    2053262       3419462      4868773   \n",
       "28     38296.62         1602.31    2819950       5084322      9635355   \n",
       "29     37969.03         1758.89    3656573      11817401     18321178   \n",
       "30    216618.43         1696.94    2804372       4238250      6107203   \n",
       "31    232601.56         2147.98    4368803       7573878     10603192   \n",
       "32    232601.56         2147.98    7315288      17605337     21598501   \n",
       "33    189582.17         1427.56    2973694       3209886      5338183   \n",
       "34    188098.27         1791.85    4136480       5675748      9116250   \n",
       "35    188138.60         2057.36    8949745      11443201     15570721   \n",
       "36     27940.56          561.59      53776       1418571       122712   \n",
       "37     29013.27          721.80    1393846       1751500      4260340   \n",
       "38     28797.99          743.55    2559454       6815230      7818265   \n",
       "39     13036.80          371.22     613278        806516      1313812   \n",
       "40     13568.66          332.67     746567        995192      2230322   \n",
       "41     13456.08          378.09     805943       2574812      5109558   \n",
       "42     21785.33          538.40    1804197       3005799      7935378   \n",
       "43     21842.84          735.71    1570119       4441416     13657283   \n",
       "44      2964.49          903.01    2278769      11239427     25044795   \n",
       "45     80204.68          853.36    1510990       2722052      3605703   \n",
       "46     79445.24         1080.89    1819897       4451579      6321888   \n",
       "47     79176.61         5079.98    2454137      11767248     11585388   \n",
       "\n",
       "     TotalGDP  \n",
       "0    27781788  \n",
       "1    41840413  \n",
       "2   113780794  \n",
       "3    14197662  \n",
       "4    22128548  \n",
       "5    49860626  \n",
       "6    24956705  \n",
       "7    43323803  \n",
       "8    96756246  \n",
       "9     4940774  \n",
       "10    8340937  \n",
       "11   19058377  \n",
       "12   47092933  \n",
       "13   77560965  \n",
       "14  165428361  \n",
       "15   23377600  \n",
       "16   39205778  \n",
       "17   89446534  \n",
       "18    7646594  \n",
       "19   14356008  \n",
       "20   29648818  \n",
       "21    5784841  \n",
       "22    9350951  \n",
       "23   17488115  \n",
       "24   10255608  \n",
       "25   15730291  \n",
       "26   33005193  \n",
       "27   10460779  \n",
       "28   17691697  \n",
       "29   41340479  \n",
       "30   13628496  \n",
       "31   23085925  \n",
       "32   56333953  \n",
       "33   11891946  \n",
       "34   19335031  \n",
       "35   41873574  \n",
       "36    5521356  \n",
       "37    7684368  \n",
       "38   19110900  \n",
       "39    2888283  \n",
       "40    4120305  \n",
       "41    9700134  \n",
       "42   13129393  \n",
       "43   20095773  \n",
       "44   45121002  \n",
       "45    8214472  \n",
       "46   13011301  \n",
       "47   29222893  "
      ]
     },
     "execution_count": 10,
     "metadata": {},
     "output_type": "execute_result"
    }
   ],
   "source": [
    "df_final.head(54)"
   ]
  },
  {
   "cell_type": "code",
   "execution_count": 11,
   "metadata": {},
   "outputs": [],
   "source": [
    "# splitting the dataset\n",
    "\n",
    "X = df_final.drop(['TotalGDP'], axis=1)\n",
    "y = df_final['TotalGDP']"
   ]
  },
  {
   "cell_type": "code",
   "execution_count": 12,
   "metadata": {},
   "outputs": [
    {
     "data": {
      "text/plain": [
       "Index(['Agriculture', 'Buildup(Urban)', 'GDP_Agric', 'GDP_Industry',\n",
       "       'GDP_Service'],\n",
       "      dtype='object')"
      ]
     },
     "execution_count": 12,
     "metadata": {},
     "output_type": "execute_result"
    }
   ],
   "source": [
    "X.columns"
   ]
  },
  {
   "cell_type": "code",
   "execution_count": 13,
   "metadata": {},
   "outputs": [
    {
     "data": {
      "text/plain": [
       "array([[ 1.26206656e+00,  1.92258676e+00, -1.75206251e-01,\n",
       "        -1.90608531e-01, -7.99190447e-02],\n",
       "       [ 1.36920526e+00,  1.74217325e+00,  2.06194443e+00,\n",
       "         7.00699260e-01,  5.62480345e-01],\n",
       "       [ 1.36800189e+00,  1.89009972e+00,  3.58608905e+00,\n",
       "         7.16800363e-01,  1.86299889e+00],\n",
       "       [ 9.66225611e-01,  6.58481103e-01, -1.15045242e-01,\n",
       "        -8.23954382e-01, -4.88786313e-01],\n",
       "       [-2.76617110e-02, -2.36516206e-01,  1.86976285e-01,\n",
       "        -2.69283603e-01, -1.65694222e-01],\n",
       "       [-1.78874352e-02, -1.36350530e+00,  9.41821458e-01,\n",
       "        -5.03024711e-01,  4.21638906e-01],\n",
       "       [-1.38197777e-01,  2.31788061e-01, -1.75206251e-01,\n",
       "         3.97529169e-03, -1.36831387e-03],\n",
       "       [-1.33464139e-01,  7.00411471e-01, -8.81298066e-02,\n",
       "         1.46898781e+00,  8.23299145e-01],\n",
       "       [-1.36213397e-01,  8.21890062e-01,  6.14604603e-01,\n",
       "         9.19238070e-01,  2.15607839e+00],\n",
       "       [-5.19601323e-01, -8.86395986e-01, -1.00792920e+00,\n",
       "        -1.02892968e+00, -8.54268733e-01],\n",
       "       [-5.09193093e-01, -7.74450743e-01, -8.63862063e-01,\n",
       "        -5.79661909e-01, -7.62240020e-01],\n",
       "       [-4.76238085e-01,  1.19599012e+00, -5.62061043e-01,\n",
       "        -1.00476044e+00, -5.36601662e-01],\n",
       "       [ 1.59201549e+00,  1.00833454e+00, -1.75206251e-01,\n",
       "         1.25210377e+00,  9.01137833e-01],\n",
       "       [ 1.56806719e+00,  2.02996581e+00,  6.76343383e-01,\n",
       "         3.50611145e+00,  2.31612585e+00],\n",
       "       [ 1.55074420e+00,  1.94009048e+00,  2.22389322e+00,\n",
       "         5.31500283e-01,  4.48413305e+00],\n",
       "       [ 3.80914539e-01, -7.50221001e-02, -1.01155285e-02,\n",
       "         1.12984819e-01, -2.91468748e-01],\n",
       "       [ 3.29916958e-01,  7.06098747e-01,  4.11009591e-01,\n",
       "         2.00217382e+00,  2.72929421e-01],\n",
       "       [ 3.36582607e-01,  7.85385111e-01,  1.69777733e+00,\n",
       "        -2.62671119e-01,  9.46472055e-01],\n",
       "       [-3.51643916e-01, -8.15055443e-01, -6.36537490e-01,\n",
       "        -1.10450157e+00, -6.81027804e-01],\n",
       "       [ 6.71959005e-01, -7.75539099e-01, -3.06345156e-01,\n",
       "        -7.46730488e-01, -4.20551147e-01],\n",
       "       [-3.54750703e-01, -7.30891932e-01,  4.22954654e-02,\n",
       "        -1.15726306e-01,  1.64204179e-01],\n",
       "       [-8.52053661e-01, -6.77922520e-01, -1.05855164e+00,\n",
       "        -7.72064168e-01, -8.28825637e-01],\n",
       "       [-8.16687674e-01, -5.46534155e-01, -8.33083676e-01,\n",
       "        -5.58033454e-01, -6.99413817e-01],\n",
       "       [-8.20765420e-01, -5.43318184e-01, -8.90830389e-01,\n",
       "         3.45975528e-02, -4.91514062e-01],\n",
       "       [-7.65472829e-01, -1.84283276e-01, -1.50323989e-01,\n",
       "        -7.86413710e-01, -6.74332049e-01],\n",
       "       [-7.66508331e-01,  2.49512213e-02, -8.45608883e-03,\n",
       "        -3.62494543e-01, -4.64172413e-01],\n",
       "       [-7.67211781e-01,  1.90635091e-01,  5.32926102e-01,\n",
       "         2.86183010e-01,  3.65698121e-02],\n",
       "       [-8.02903874e-01, -9.46771132e-01, -5.33162991e-01,\n",
       "        -6.25659364e-01, -6.42355185e-01],\n",
       "       [-8.42865924e-01, -1.55347722e-01, -2.34997415e-01,\n",
       "        -2.70729451e-01, -3.18066243e-01],\n",
       "       [-8.47502608e-01, -2.72162440e-02,  9.03659376e-02,\n",
       "         1.16468923e+00,  2.72863768e-01],\n",
       "       [ 1.68108756e+00, -7.79107456e-02, -2.41055712e-01,\n",
       "        -4.51102732e-01, -5.58100020e-01],\n",
       "       [ 1.90731157e+00,  2.91181232e-01,  3.67352754e-01,\n",
       "         2.60016613e-01, -2.52220562e-01],\n",
       "       [ 1.90731157e+00,  2.91181232e-01,  1.51324312e+00,\n",
       "         2.39861377e+00,  4.95832681e-01],\n",
       "       [ 1.29841837e+00, -2.98347950e-01, -1.75206251e-01,\n",
       "        -6.70338671e-01, -6.10419414e-01],\n",
       "       [ 1.27741536e+00, -2.44641545e-04,  2.77002153e-01,\n",
       "        -1.44643908e-01, -3.53382956e-01],\n",
       "       [ 1.27798619e+00,  2.17025691e-01,  2.14888476e+00,\n",
       "         1.08491389e+00,  8.57395790e-02],\n",
       "       [-9.89444818e-01, -1.00698262e+00, -1.31076469e+00,\n",
       "        -1.05222740e+00, -9.65248004e-01],\n",
       "       [-9.74261761e-01, -8.75880661e-01, -7.89610400e-01,\n",
       "        -9.81250588e-01, -6.83749227e-01],\n",
       "       [-9.77308818e-01, -8.58082350e-01, -3.36304518e-01,\n",
       "         9.82811709e-02, -4.41689878e-01],\n",
       "       [-1.20039152e+00, -1.16276490e+00, -1.09317392e+00,\n",
       "        -1.18271082e+00, -8.84212881e-01],\n",
       "       [-1.19286361e+00, -1.19431087e+00, -1.04133772e+00,\n",
       "        -1.14248717e+00, -8.21859174e-01],\n",
       "       [-1.19445706e+00, -1.15714308e+00, -1.01824635e+00,\n",
       "        -8.05729490e-01, -6.25973653e-01],\n",
       "       [-1.07656548e+00, -1.02595930e+00, -6.30024569e-01,\n",
       "        -7.13847783e-01, -4.33722229e-01],\n",
       "       [-1.07575149e+00, -8.64497925e-01, -7.21057690e-01,\n",
       "        -4.07789967e-01, -4.44389818e-02],\n",
       "       [-1.34295423e+00, -7.27594130e-01, -4.45463139e-01,\n",
       "         1.04147150e+00,  7.30297343e-01],\n",
       "       [-2.49702396e-01, -7.68223379e-01, -7.44053005e-01,\n",
       "        -7.74339535e-01, -7.28286704e-01],\n",
       "       [-2.60451453e-01, -5.82032581e-01, -6.23918826e-01,\n",
       "        -4.05623327e-01, -5.43494172e-01],\n",
       "       [-2.64253622e-01,  2.69047548e+00, -3.77262383e-01,\n",
       "         1.15399716e+00, -1.85397983e-01]])"
      ]
     },
     "execution_count": 13,
     "metadata": {},
     "output_type": "execute_result"
    }
   ],
   "source": [
    "#feature scaling\n",
    "\n",
    "from sklearn.preprocessing import StandardScaler\n",
    "scalar = StandardScaler()\n",
    "X_scaled = scalar.fit_transform(X)\n",
    "X_scaled"
   ]
  },
  {
   "cell_type": "code",
   "execution_count": 14,
   "metadata": {},
   "outputs": [],
   "source": [
    "from sklearn.model_selection import train_test_split\n",
    "X_train, X_test, y_train, y_test = train_test_split(X_scaled, y, test_size=0.2, random_state=30)"
   ]
  },
  {
   "cell_type": "code",
   "execution_count": 15,
   "metadata": {},
   "outputs": [],
   "source": [
    "from sklearn.linear_model import LinearRegression\n",
    "lg_model = LinearRegression()"
   ]
  },
  {
   "cell_type": "code",
   "execution_count": 16,
   "metadata": {},
   "outputs": [
    {
     "data": {
      "text/plain": [
       "0.8346459350774758"
      ]
     },
     "execution_count": 16,
     "metadata": {},
     "output_type": "execute_result"
    }
   ],
   "source": [
    "lg_model.fit(X_train, y_train)\n",
    "lg_model.score(X_test, y_test)"
   ]
  },
  {
   "cell_type": "code",
   "execution_count": 17,
   "metadata": {},
   "outputs": [
    {
     "data": {
      "text/plain": [
       "0.9726375400073832"
      ]
     },
     "execution_count": 17,
     "metadata": {},
     "output_type": "execute_result"
    }
   ],
   "source": [
    "lg_model.score(X_train, y_train)"
   ]
  },
  {
   "cell_type": "code",
   "execution_count": 18,
   "metadata": {},
   "outputs": [
    {
     "name": "stdout",
     "output_type": "stream",
     "text": [
      "R-squared: 0.8346\n",
      "Mean Squared Error (MSE): 39304886662789.4609\n",
      "Mean Absolute Error (MAE): 4674935.0632\n"
     ]
    }
   ],
   "source": [
    "from sklearn.metrics import r2_score, mean_squared_error, mean_absolute_error\n",
    "\n",
    "y_pred = lg_model.predict(X_test)\n",
    "\n",
    "# Calculate metrics\n",
    "r_squared = r2_score(y_test, y_pred)\n",
    "mse = mean_squared_error(y_test, y_pred)\n",
    "mae = mean_absolute_error(y_test, y_pred)\n",
    "\n",
    "print(f\"R-squared: {r_squared:.4f}\")\n",
    "print(f\"Mean Squared Error (MSE): {mse:.4f}\")\n",
    "print(f\"Mean Absolute Error (MAE): {mae:.4f}\")"
   ]
  },
  {
   "cell_type": "code",
   "execution_count": 19,
   "metadata": {},
   "outputs": [
    {
     "data": {
      "text/plain": [
       "0.0"
      ]
     },
     "execution_count": 19,
     "metadata": {},
     "output_type": "execute_result"
    }
   ],
   "source": [
    "# Logistic Regression\n",
    "from sklearn.linear_model import LogisticRegression\n",
    "logistic_model = LogisticRegression()\n",
    "logistic_model.fit(X_train, y_train)\n",
    "\n",
    "# Predict on the test set\n",
    "y_pred_logistic = logistic_model.predict(X_test)\n",
    "logistic_model.score(X_test, y_test)"
   ]
  },
  {
   "cell_type": "code",
   "execution_count": 20,
   "metadata": {},
   "outputs": [
    {
     "data": {
      "text/plain": [
       "-0.07842979450523102"
      ]
     },
     "execution_count": 20,
     "metadata": {},
     "output_type": "execute_result"
    }
   ],
   "source": [
    "# SVR\n",
    "from sklearn.svm import SVR\n",
    "\n",
    "svr = SVR(kernel='rbf', C=1.0, epsilon=0.1)\n",
    "svr.fit(X_train, y_train)\n",
    "svr.score(X_test, y_test)"
   ]
  },
  {
   "cell_type": "code",
   "execution_count": 21,
   "metadata": {},
   "outputs": [
    {
     "data": {
      "text/plain": [
       "0.8624647556091882"
      ]
     },
     "execution_count": 21,
     "metadata": {},
     "output_type": "execute_result"
    }
   ],
   "source": [
    "# Random Forest\n",
    "from sklearn.ensemble import RandomForestRegressor\n",
    "rf_model = RandomForestRegressor(n_estimators=35, random_state=42)\n",
    "rf_model.fit(X_train, y_train)\n",
    "y_pred_rf = rf_model.predict(X_test)\n",
    "rf_model.score(X_test, y_test)"
   ]
  },
  {
   "cell_type": "code",
   "execution_count": 22,
   "metadata": {},
   "outputs": [
    {
     "data": {
      "text/plain": [
       "0.969955784937162"
      ]
     },
     "execution_count": 22,
     "metadata": {},
     "output_type": "execute_result"
    }
   ],
   "source": [
    "rf_model.score(X_train, y_train)"
   ]
  },
  {
   "cell_type": "code",
   "execution_count": 23,
   "metadata": {},
   "outputs": [
    {
     "data": {
      "text/plain": [
       "0.8519552400746816"
      ]
     },
     "execution_count": 23,
     "metadata": {},
     "output_type": "execute_result"
    }
   ],
   "source": [
    "# Gradient boosting regression\n",
    "from sklearn.ensemble import GradientBoostingRegressor\n",
    "gb_model = GradientBoostingRegressor(n_estimators=100, learning_rate=0.1, max_depth=3, random_state=42)\n",
    "gb_model.fit(X_train, y_train)\n",
    "y_pred_gb = gb_model.predict(X_test)\n",
    "gb_model.score(X_test, y_test)"
   ]
  },
  {
   "cell_type": "code",
   "execution_count": 24,
   "metadata": {},
   "outputs": [
    {
     "data": {
      "text/plain": [
       "0.9999925205253819"
      ]
     },
     "execution_count": 24,
     "metadata": {},
     "output_type": "execute_result"
    }
   ],
   "source": [
    "gb_model.score(X_train, y_train)"
   ]
  },
  {
   "cell_type": "code",
   "execution_count": 25,
   "metadata": {},
   "outputs": [
    {
     "data": {
      "text/plain": [
       "0.8647085035121224"
      ]
     },
     "execution_count": 25,
     "metadata": {},
     "output_type": "execute_result"
    }
   ],
   "source": [
    "# xgboost\n",
    "\n",
    "import xgboost as xgb\n",
    "from sklearn.metrics import mean_squared_error, r2_score\n",
    "\n",
    "# Create the XGBoost Regressor\n",
    "xgb_reg = xgb.XGBRegressor(objective='reg:squarederror', n_estimators=40, max_depth=3, learning_rate=0.1)\n",
    "\n",
    "# Train the model\n",
    "xgb_reg.fit(X_train, y_train)\n",
    "\n",
    "xgb_reg.score(X_test, y_test)\n"
   ]
  },
  {
   "cell_type": "code",
   "execution_count": 26,
   "metadata": {},
   "outputs": [
    {
     "data": {
      "text/plain": [
       "0.9903441275110454"
      ]
     },
     "execution_count": 26,
     "metadata": {},
     "output_type": "execute_result"
    }
   ],
   "source": [
    "xgb_reg.score(X_train, y_train)"
   ]
  },
  {
   "cell_type": "code",
   "execution_count": 27,
   "metadata": {},
   "outputs": [
    {
     "name": "stdout",
     "output_type": "stream",
     "text": [
      "Mean Squared Error: 32158973160936.50\n",
      "Root Mean Squared Error: 5670888.22\n",
      "R-squared: 0.86\n"
     ]
    },
    {
     "name": "stderr",
     "output_type": "stream",
     "text": [
      "c:\\Users\\kumar\\AppData\\Local\\Programs\\Python\\Python312\\Lib\\site-packages\\sklearn\\metrics\\_regression.py:483: FutureWarning: 'squared' is deprecated in version 1.4 and will be removed in 1.6. To calculate the root mean squared error, use the function'root_mean_squared_error'.\n",
      "  warnings.warn(\n"
     ]
    }
   ],
   "source": [
    "# Make predictions\n",
    "y_pred = xgb_reg.predict(X_test)\n",
    "\n",
    "# Evaluate the model\n",
    "mse = mean_squared_error(y_test, y_pred)\n",
    "rmse = mean_squared_error(y_test, y_pred, squared=False)\n",
    "r2 = r2_score(y_test, y_pred)\n",
    "\n",
    "print(f'Mean Squared Error: {mse:.2f}')\n",
    "print(f'Root Mean Squared Error: {rmse:.2f}')\n",
    "print(f'R-squared: {r2:.2f}')"
   ]
  },
  {
   "cell_type": "code",
   "execution_count": 52,
   "metadata": {},
   "outputs": [
    {
     "data": {
      "text/plain": [
       "0.8660949016611001"
      ]
     },
     "execution_count": 52,
     "metadata": {},
     "output_type": "execute_result"
    }
   ],
   "source": [
    "#Ridge Regression\n",
    "\n",
    "from sklearn.linear_model import Ridge\n",
    "\n",
    "# Assuming X is your feature matrix and y is your target variable\n",
    "ridge_model = Ridge(alpha=0.9)  # alpha is the regularization strength\n",
    "ridge_model.fit(X_train, y_train)\n",
    "ridge_model.score(X_test, y_test)"
   ]
  },
  {
   "cell_type": "code",
   "execution_count": 51,
   "metadata": {},
   "outputs": [
    {
     "data": {
      "text/plain": [
       "0.9696537254876568"
      ]
     },
     "execution_count": 51,
     "metadata": {},
     "output_type": "execute_result"
    }
   ],
   "source": [
    "ridge_model.score(X_train, y_train)"
   ]
  },
  {
   "cell_type": "code",
   "execution_count": 30,
   "metadata": {},
   "outputs": [
    {
     "data": {
      "text/plain": [
       "0.8346461032926169"
      ]
     },
     "execution_count": 30,
     "metadata": {},
     "output_type": "execute_result"
    }
   ],
   "source": [
    "# Lasso Regression\n",
    "\n",
    "from sklearn.linear_model import Lasso\n",
    "\n",
    "# Assuming X is your feature matrix and y is your target variable\n",
    "lasso_model = Lasso(alpha=0.9)  # alpha is the regularization strength\n",
    "lasso_model.fit(X_train, y_train)\n",
    "lasso_model.score(X_test, y_test)"
   ]
  },
  {
   "cell_type": "code",
   "execution_count": 31,
   "metadata": {},
   "outputs": [
    {
     "data": {
      "text/plain": [
       "0.972637540007375"
      ]
     },
     "execution_count": 31,
     "metadata": {},
     "output_type": "execute_result"
    }
   ],
   "source": [
    "lasso_model.score(X_train, y_train)"
   ]
  },
  {
   "cell_type": "code",
   "execution_count": 32,
   "metadata": {},
   "outputs": [
    {
     "data": {
      "text/plain": [
       "0.8829799057730066"
      ]
     },
     "execution_count": 32,
     "metadata": {},
     "output_type": "execute_result"
    }
   ],
   "source": [
    "# elastic net regression\n",
    "\n",
    "from sklearn.linear_model import ElasticNet\n",
    "elastic_net = ElasticNet(alpha=0.1, l1_ratio=0.6)\n",
    "elastic_net.fit(X_train, y_train)\n",
    "elastic_net.score(X_test, y_test)"
   ]
  },
  {
   "cell_type": "code",
   "execution_count": 33,
   "metadata": {},
   "outputs": [
    {
     "data": {
      "text/plain": [
       "0.9708144163377276"
      ]
     },
     "execution_count": 33,
     "metadata": {},
     "output_type": "execute_result"
    }
   ],
   "source": [
    "elastic_net.score(X_train, y_train)"
   ]
  },
  {
   "cell_type": "code",
   "execution_count": 34,
   "metadata": {},
   "outputs": [
    {
     "data": {
      "text/plain": [
       "array([[-5.19601323e-01, -8.86395986e-01, -1.00792920e+00,\n",
       "        -1.02892968e+00, -8.54268733e-01],\n",
       "       [ 1.29841837e+00, -2.98347950e-01, -1.75206251e-01,\n",
       "        -6.70338671e-01, -6.10419414e-01],\n",
       "       [-1.78874352e-02, -1.36350530e+00,  9.41821458e-01,\n",
       "        -5.03024711e-01,  4.21638906e-01],\n",
       "       [ 1.27741536e+00, -2.44641545e-04,  2.77002153e-01,\n",
       "        -1.44643908e-01, -3.53382956e-01],\n",
       "       [-8.16687674e-01, -5.46534155e-01, -8.33083676e-01,\n",
       "        -5.58033454e-01, -6.99413817e-01],\n",
       "       [-7.66508331e-01,  2.49512213e-02, -8.45608883e-03,\n",
       "        -3.62494543e-01, -4.64172413e-01],\n",
       "       [-7.67211781e-01,  1.90635091e-01,  5.32926102e-01,\n",
       "         2.86183010e-01,  3.65698121e-02],\n",
       "       [-1.36213397e-01,  8.21890062e-01,  6.14604603e-01,\n",
       "         9.19238070e-01,  2.15607839e+00],\n",
       "       [-8.47502608e-01, -2.72162440e-02,  9.03659376e-02,\n",
       "         1.16468923e+00,  2.72863768e-01],\n",
       "       [-1.19445706e+00, -1.15714308e+00, -1.01824635e+00,\n",
       "        -8.05729490e-01, -6.25973653e-01],\n",
       "       [-9.77308818e-01, -8.58082350e-01, -3.36304518e-01,\n",
       "         9.82811709e-02, -4.41689878e-01],\n",
       "       [-2.60451453e-01, -5.82032581e-01, -6.23918826e-01,\n",
       "        -4.05623327e-01, -5.43494172e-01],\n",
       "       [-8.42865924e-01, -1.55347722e-01, -2.34997415e-01,\n",
       "        -2.70729451e-01, -3.18066243e-01],\n",
       "       [-2.76617110e-02, -2.36516206e-01,  1.86976285e-01,\n",
       "        -2.69283603e-01, -1.65694222e-01],\n",
       "       [-1.07575149e+00, -8.64497925e-01, -7.21057690e-01,\n",
       "        -4.07789967e-01, -4.44389818e-02],\n",
       "       [ 3.80914539e-01, -7.50221001e-02, -1.01155285e-02,\n",
       "         1.12984819e-01, -2.91468748e-01],\n",
       "       [-4.76238085e-01,  1.19599012e+00, -5.62061043e-01,\n",
       "        -1.00476044e+00, -5.36601662e-01],\n",
       "       [ 1.26206656e+00,  1.92258676e+00, -1.75206251e-01,\n",
       "        -1.90608531e-01, -7.99190447e-02],\n",
       "       [ 1.56806719e+00,  2.02996581e+00,  6.76343383e-01,\n",
       "         3.50611145e+00,  2.31612585e+00],\n",
       "       [ 1.55074420e+00,  1.94009048e+00,  2.22389322e+00,\n",
       "         5.31500283e-01,  4.48413305e+00],\n",
       "       [-8.02903874e-01, -9.46771132e-01, -5.33162991e-01,\n",
       "        -6.25659364e-01, -6.42355185e-01],\n",
       "       [ 1.68108756e+00, -7.79107456e-02, -2.41055712e-01,\n",
       "        -4.51102732e-01, -5.58100020e-01],\n",
       "       [-1.38197777e-01,  2.31788061e-01, -1.75206251e-01,\n",
       "         3.97529169e-03, -1.36831387e-03],\n",
       "       [ 3.29916958e-01,  7.06098747e-01,  4.11009591e-01,\n",
       "         2.00217382e+00,  2.72929421e-01],\n",
       "       [-1.34295423e+00, -7.27594130e-01, -4.45463139e-01,\n",
       "         1.04147150e+00,  7.30297343e-01],\n",
       "       [-9.89444818e-01, -1.00698262e+00, -1.31076469e+00,\n",
       "        -1.05222740e+00, -9.65248004e-01],\n",
       "       [-3.51643916e-01, -8.15055443e-01, -6.36537490e-01,\n",
       "        -1.10450157e+00, -6.81027804e-01],\n",
       "       [ 1.27798619e+00,  2.17025691e-01,  2.14888476e+00,\n",
       "         1.08491389e+00,  8.57395790e-02],\n",
       "       [ 1.36920526e+00,  1.74217325e+00,  2.06194443e+00,\n",
       "         7.00699260e-01,  5.62480345e-01],\n",
       "       [-1.33464139e-01,  7.00411471e-01, -8.81298066e-02,\n",
       "         1.46898781e+00,  8.23299145e-01],\n",
       "       [ 9.66225611e-01,  6.58481103e-01, -1.15045242e-01,\n",
       "        -8.23954382e-01, -4.88786313e-01],\n",
       "       [ 3.36582607e-01,  7.85385111e-01,  1.69777733e+00,\n",
       "        -2.62671119e-01,  9.46472055e-01],\n",
       "       [ 1.36800189e+00,  1.89009972e+00,  3.58608905e+00,\n",
       "         7.16800363e-01,  1.86299889e+00],\n",
       "       [-8.20765420e-01, -5.43318184e-01, -8.90830389e-01,\n",
       "         3.45975528e-02, -4.91514062e-01],\n",
       "       [ 1.59201549e+00,  1.00833454e+00, -1.75206251e-01,\n",
       "         1.25210377e+00,  9.01137833e-01],\n",
       "       [-2.49702396e-01, -7.68223379e-01, -7.44053005e-01,\n",
       "        -7.74339535e-01, -7.28286704e-01],\n",
       "       [-2.64253622e-01,  2.69047548e+00, -3.77262383e-01,\n",
       "         1.15399716e+00, -1.85397983e-01],\n",
       "       [-9.74261761e-01, -8.75880661e-01, -7.89610400e-01,\n",
       "        -9.81250588e-01, -6.83749227e-01]])"
      ]
     },
     "execution_count": 34,
     "metadata": {},
     "output_type": "execute_result"
    }
   ],
   "source": [
    "X_train"
   ]
  },
  {
   "cell_type": "code",
   "execution_count": 35,
   "metadata": {},
   "outputs": [
    {
     "data": {
      "text/plain": [
       "2"
      ]
     },
     "execution_count": 35,
     "metadata": {},
     "output_type": "execute_result"
    }
   ],
   "source": [
    "X_train.ndim"
   ]
  },
  {
   "cell_type": "code",
   "execution_count": 36,
   "metadata": {},
   "outputs": [],
   "source": [
    "def predictive_model(X):\n",
    "    inps = []\n",
    "    for cols in X.columns:\n",
    "        f = float(input(f\"Enter the value of {cols}: \"))\n",
    "        inps.append(f)\n",
    "\n",
    "    i_array = np.asarray(inps)\n",
    "    i_array = i_array.reshape(1, -1)\n",
    "    prediction = lasso_model.predict(i_array)\n",
    "\n",
    "    print(\"The predicted TotalGDP is: \", prediction)"
   ]
  },
  {
   "cell_type": "code",
   "execution_count": 37,
   "metadata": {},
   "outputs": [
    {
     "data": {
      "image/png": "[encoded data removed]",
      "text/plain": [
       "<Figure size 640x480 with 1 Axes>"
      ]
     },
     "metadata": {},
     "output_type": "display_data"
    }
   ],
   "source": [
    "import matplotlib.pyplot as plt\n",
    "\n",
    "# Compute residuals\n",
    "y_pred = lasso_model.predict(X_test)\n",
    "residuals = y_test - y_pred\n",
    "\n",
    "# Plot residuals\n",
    "plt.scatter(y_pred, residuals, alpha=0.5)\n",
    "plt.axhline(y=0, color='r', linestyle='--')\n",
    "plt.xlabel('Predicted Values')\n",
    "plt.ylabel('Residuals')\n",
    "plt.title('Residual Plot')\n",
    "plt.show()"
   ]
  },
  {
   "cell_type": "code",
   "execution_count": 38,
   "metadata": {},
   "outputs": [
    {
     "data": {
      "image/png": "[encoded data removed]",
      "text/plain": [
       "<Figure size 1000x600 with 1 Axes>"
      ]
     },
     "metadata": {},
     "output_type": "display_data"
    }
   ],
   "source": [
    "import matplotlib.pyplot as plt\n",
    "from sklearn.linear_model import lasso_path\n",
    "\n",
    "# Compute coefficient path\n",
    "alphas, coefs, _ = lasso_path(X_train, y_train)\n",
    "\n",
    "# Plot coefficient path\n",
    "plt.figure(figsize=(10, 6))\n",
    "plt.plot(alphas, coefs.T)\n",
    "plt.xlabel('Alpha')\n",
    "plt.ylabel('Coefficients')\n",
    "plt.title('Lasso Coefficient Path')\n",
    "plt.axvline(alpha=lasso_model.alpha, linestyle='--', color='k', label='Alpha: %.2f' % lasso_model.alpha)\n",
    "plt.legend()\n",
    "plt.show()"
   ]
  },
  {
   "cell_type": "code",
   "execution_count": 39,
   "metadata": {},
   "outputs": [
    {
     "data": {
      "image/png": "[encoded data removed]",
      "text/plain": [
       "<Figure size 1000x600 with 1 Axes>"
      ]
     },
     "metadata": {},
     "output_type": "display_data"
    }
   ],
   "source": [
    "import matplotlib.pyplot as plt\n",
    "\n",
    "# Get feature names and coefficients\n",
    "feature_names = X.columns\n",
    "coefficients = lasso_model.coef_\n",
    "\n",
    "# Plot feature importance\n",
    "plt.figure(figsize=(10, 6))\n",
    "plt.bar(range(len(feature_names)), np.abs(coefficients))\n",
    "plt.xticks(range(len(feature_names)), feature_names, rotation=90)\n",
    "plt.xlabel('Features')\n",
    "plt.ylabel('Coefficient Magnitude')\n",
    "plt.title('Feature Importance')\n",
    "plt.show()"
   ]
  },
  {
   "cell_type": "code",
   "execution_count": 40,
   "metadata": {},
   "outputs": [
    {
     "data": {
      "image/png": "[encoded data removed]",
      "text/plain": [
       "<Figure size 1000x600 with 3 Axes>"
      ]
     },
     "metadata": {},
     "output_type": "display_data"
    }
   ],
   "source": [
    "import matplotlib.pyplot as plt\n",
    "\n",
    "# Compute evaluation metrics\n",
    "y_pred = lasso_model.predict(X_test)\n",
    "mse = mean_squared_error(y_test, y_pred)\n",
    "rmse = np.sqrt(mse)\n",
    "r2 = r2_score(y_test, y_pred)\n",
    "\n",
    "# Plot metrics\n",
    "plt.figure(figsize=(10, 6))\n",
    "plt.subplot(1, 3, 1)\n",
    "plt.scatter(y_test, y_pred, alpha=0.5)\n",
    "plt.plot([min(y_test), max(y_test)], [min(y_test), max(y_test)], 'r--')\n",
    "plt.xlabel('Actual Values')\n",
    "plt.ylabel('Predicted Values')\n",
    "plt.title('Actual vs. Predicted')\n",
    "\n",
    "plt.subplot(1, 3, 2)\n",
    "plt.hist(y_test - y_pred, bins=20)\n",
    "plt.xlabel('Residuals')\n",
    "plt.ylabel('Frequency')\n",
    "plt.title('Residual Distribution')\n",
    "\n",
    "plt.subplot(1, 3, 3)\n",
    "plt.bar(['MSE', 'RMSE', 'R-squared'], [mse, rmse, r2])\n",
    "plt.ylabel('Value')\n",
    "plt.title('Evaluation Metrics')\n",
    "\n",
    "plt.tight_layout()\n",
    "plt.show()"
   ]
  },
  {
   "cell_type": "code",
   "execution_count": 41,
   "metadata": {},
   "outputs": [],
   "source": [
    "# pickle dump\n",
    "import pickle\n",
    "\n",
    "with open('C:\\\\Users\\\\kumar\\\\Desktop\\\\LULC\\\\lasso_model.pkl', 'wb') as f:\n",
    "    pickle.dump(lasso_model, f)"
   ]
  }
 ],
 "metadata": {
  "kernelspec": {
   "display_name": "Python 3",
   "language": "python",
   "name": "python3"
  },
  "language_info": {
   "codemirror_mode": {
    "name": "ipython",
    "version": 3
   },
   "file_extension": ".py",
   "mimetype": "text/x-python",
   "name": "python",
   "nbconvert_exporter": "python",
   "pygments_lexer": "ipython3",
   "version": "3.12.2"
  }
 },
 "nbformat": 4,
 "nbformat_minor": 2
}
